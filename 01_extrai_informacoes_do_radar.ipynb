{
  "cells": [
    {
      "cell_type": "markdown",
      "source": [
        "Esse código extrai as informações de arquivo HDF5 do radar do Cemaden. Esses arquivos são gerados por [Thiago Biscaro](https://github.com/tsbiscaro) e os dados originais são do [Cemaden](http://www2.cemaden.gov.br/mapainterativo/).\n"
      ],
      "metadata": {
        "id": "24N56DCSdHB0"
      },
      "id": "24N56DCSdHB0"
    },
    {
      "cell_type": "code",
      "source": [
        "# instalando o py_art\n",
        "!pip install -q arm_pyart"
      ],
      "metadata": {
        "id": "lE0NpUgrcbKs",
        "colab": {
          "base_uri": "https://localhost:8080/"
        },
        "outputId": "c5bca8c5-fd72-4210-ad09-59a1691207ef"
      },
      "id": "lE0NpUgrcbKs",
      "execution_count": 1,
      "outputs": [
        {
          "output_type": "stream",
          "name": "stdout",
          "text": [
            "\u001b[2K     \u001b[90m━━━━━━━━━━━━━━━━━━━━━━━━━━━━━━━━━━━━━━━━\u001b[0m \u001b[32m12.7/12.7 MB\u001b[0m \u001b[31m27.0 MB/s\u001b[0m eta \u001b[36m0:00:00\u001b[0m\n",
            "\u001b[2K     \u001b[90m━━━━━━━━━━━━━━━━━━━━━━━━━━━━━━━━━━━━━━━━\u001b[0m \u001b[32m5.4/5.4 MB\u001b[0m \u001b[31m48.4 MB/s\u001b[0m eta \u001b[36m0:00:00\u001b[0m\n",
            "\u001b[2K     \u001b[90m━━━━━━━━━━━━━━━━━━━━━━━━━━━━━━━━━━━━━━━━\u001b[0m \u001b[32m1.2/1.2 MB\u001b[0m \u001b[31m49.1 MB/s\u001b[0m eta \u001b[36m0:00:00\u001b[0m\n",
            "\u001b[2K     \u001b[90m━━━━━━━━━━━━━━━━━━━━━━━━━━━━━━━━━━━━━━━━\u001b[0m \u001b[32m87.8/87.8 kB\u001b[0m \u001b[31m10.0 MB/s\u001b[0m eta \u001b[36m0:00:00\u001b[0m\n",
            "\u001b[2K     \u001b[90m━━━━━━━━━━━━━━━━━━━━━━━━━━━━━━━━━━━━━━━━\u001b[0m \u001b[32m73.4/73.4 kB\u001b[0m \u001b[31m8.4 MB/s\u001b[0m eta \u001b[36m0:00:00\u001b[0m\n",
            "\u001b[2K     \u001b[90m━━━━━━━━━━━━━━━━━━━━━━━━━━━━━━━━━━━━━━━━\u001b[0m \u001b[32m61.2/61.2 kB\u001b[0m \u001b[31m7.2 MB/s\u001b[0m eta \u001b[36m0:00:00\u001b[0m\n",
            "\u001b[2K     \u001b[90m━━━━━━━━━━━━━━━━━━━━━━━━━━━━━━━━━━━━━━━━\u001b[0m \u001b[32m11.1/11.1 MB\u001b[0m \u001b[31m21.8 MB/s\u001b[0m eta \u001b[36m0:00:00\u001b[0m\n",
            "\u001b[2K     \u001b[90m━━━━━━━━━━━━━━━━━━━━━━━━━━━━━━━━━━━━━━\u001b[0m \u001b[32m143.1/143.1 kB\u001b[0m \u001b[31m13.1 MB/s\u001b[0m eta \u001b[36m0:00:00\u001b[0m\n",
            "\u001b[?25h"
          ]
        }
      ]
    },
    {
      "cell_type": "code",
      "execution_count": 2,
      "id": "bb585815",
      "metadata": {
        "id": "bb585815",
        "colab": {
          "base_uri": "https://localhost:8080/"
        },
        "outputId": "384472b3-dc0e-4537-a2c3-6d6ad4b7c486"
      },
      "outputs": [
        {
          "output_type": "stream",
          "name": "stdout",
          "text": [
            "\n",
            "## You are using the Python ARM Radar Toolkit (Py-ART), an open source\n",
            "## library for working with weather radar data. Py-ART is partly\n",
            "## supported by the U.S. Department of Energy as part of the Atmospheric\n",
            "## Radiation Measurement (ARM) Climate Research Facility, an Office of\n",
            "## Science user facility.\n",
            "##\n",
            "## If you use this software to prepare a publication, please cite:\n",
            "##\n",
            "##     JJ Helmus and SM Collis, JORS 2016, doi: 10.5334/jors.119\n",
            "\n"
          ]
        }
      ],
      "source": [
        "# importando bibliotecas\n",
        "import pyart\n",
        "import csv"
      ]
    },
    {
      "cell_type": "code",
      "source": [
        "# monta drive\n",
        "from google.colab import drive\n",
        "drive.mount('/content/drive')"
      ],
      "metadata": {
        "id": "koA5jTj5_0Bt",
        "colab": {
          "base_uri": "https://localhost:8080/"
        },
        "outputId": "ee99d394-eb57-49b9-d385-77443369bb12"
      },
      "id": "koA5jTj5_0Bt",
      "execution_count": 3,
      "outputs": [
        {
          "output_type": "stream",
          "name": "stdout",
          "text": [
            "Mounted at /content/drive\n"
          ]
        }
      ]
    },
    {
      "cell_type": "markdown",
      "source": [
        "Insira o caminho do diretório onde esta o código:"
      ],
      "metadata": {
        "id": "k2daUspBLf2e"
      },
      "id": "k2daUspBLf2e"
    },
    {
      "cell_type": "code",
      "source": [
        "# diretório\n",
        "dir = '/content/drive/MyDrive/PYHTON/00_GITHUB/6_RADAR/4_Extrai_info_radar_HDF5/'"
      ],
      "metadata": {
        "id": "IcFVFB3CWb8y"
      },
      "id": "IcFVFB3CWb8y",
      "execution_count": 4,
      "outputs": []
    },
    {
      "cell_type": "code",
      "source": [
        "#-----------------------------------------------------------------------------------\n",
        "#        Obtem as informações do radar a partir do dado bruto (HDF5)\n",
        "#-----------------------------------------------------------------------------------\n",
        "def get_info_radar(radar):\n",
        "\n",
        "    \"\"\"\n",
        "    Obtem as informações dos dados do radar\n",
        "\n",
        "    Parâmetros de entrada:\n",
        "                         radar (object): objeto do pyart\n",
        "\n",
        "    Parâmetros de saída:\n",
        "                         dic (dicionário): informações do radar, como:\n",
        "                           date_start(list): ano, mes, dia hora, minuto inicial do scan do radar\n",
        "                           date_end(list): ano, mes, dia hora, minuto final do scan do radar\n",
        "                           lon_radar(float): longitude do radar em graus\n",
        "                           lat_radar(float): latitude do radar em graus\n",
        "                           alt_radar(float): altura do radar em metros\n",
        "                           radar_frequency(float): frequência do radar em Hz\n",
        "                           radar_beam_width(float): largura do feixe em graus\n",
        "                           nsweeps(int): quantidade de elevações\n",
        "                           sweeps(list): ângulos de elevação em graus\n",
        "                           nrays(list): quantidade de azimutes para cada elevação\n",
        "                           ngates(int): quantidade de bins\n",
        "                           radial_resolution(float): resolução radial do radar em metros\n",
        "                           ray_angle_res(float): resolução azimutal em graus\n",
        "                           lonmin(float): longitude mínima da matriz de dados\n",
        "                           lonmax(float): longitude máxima da matriz de dados\n",
        "                           latmin(float): latitude mínima da matriz de dados\n",
        "                           latmax(float): latitude máxima da matriz de dados\n",
        "                           variables(list): variáveis disponíveis\n",
        "\n",
        "    Exemplo: dic = get_info_radar(radar)\n",
        "    \"\"\"\n",
        "\n",
        "    # importa biblioteca de datas\n",
        "    from netCDF4 import num2date\n",
        "\n",
        "    # campos disponíveis\n",
        "    variaveis = radar.fields.keys()\n",
        "\n",
        "    # latitude e longitude do radar\n",
        "    lon_radar, lat_radar, alt_radar = radar.longitude['data'][0], radar.latitude['data'][0], radar.altitude['data'][0]\n",
        "\n",
        "    # informações sobre o tempo\n",
        "    data_ini = num2date(radar.time['data'][0], radar.time['units'] )\n",
        "    data_end = num2date(radar.time['data'][-1], radar.time['units'] )\n",
        "\n",
        "    # extrai o ano, mes dia, hora e minuto inicial da imagem\n",
        "    anoi, mesi, diai, hori, mini, segi = str(data_ini.year), str(data_ini.month).zfill(2), str(data_ini.day).zfill(2), str(data_ini.hour).zfill(2), str(data_ini.minute).zfill(2), str(data_ini.second).zfill(2)\n",
        "    anof, mesf, diaf, horf, minf, segf = str(data_end.year), str(data_end.month).zfill(2), str(data_end.day).zfill(2), str(data_end.hour).zfill(2), str(data_end.minute).zfill(2), str(data_end.second).zfill(2)\n",
        "\n",
        "    # frequência do radar\n",
        "    radar_frequency = radar.instrument_parameters['frequency']['data'][0]\n",
        "\n",
        "    # largura do feixe\n",
        "    radar_beam_width = radar.instrument_parameters['radar_beam_width_h']['data'][0]\n",
        "\n",
        "    # quantidade TOTAL de bins do feixe\n",
        "    ngates = radar.ngates\n",
        "\n",
        "    # quantidade de elevações\n",
        "    nsweeps = radar.nsweeps\n",
        "\n",
        "    # quantidade de azimutes por elevação\n",
        "    total_azimuths = radar.azimuth['data'].shape[0]\n",
        "    index_azimuths = radar.sweep_start_ray_index['data'].tolist()\n",
        "    index_azimuths.append(total_azimuths)\n",
        "    qte_azim = [index_azimuths[i+1] - index_azimuths[i] for i in range(nsweeps)]\n",
        "\n",
        "    # resolução radial\n",
        "    radial_resolution = radar.range['meters_between_gates']\n",
        "\n",
        "    # informação apenas da resolução ângulo azimutal\n",
        "    ray_angle_res = radar.ray_angle_res['data'][0]\n",
        "\n",
        "    # ângulos de elevação\n",
        "    sweeps =  radar.fixed_angle['data']\n",
        "\n",
        "    # definindo a extensão dos dados em termos de latitude/longitude\n",
        "    lats = radar.gate_latitude\n",
        "    lons = radar.gate_longitude\n",
        "    lonmin = lons['data'].min()\n",
        "    lonmax = lons['data'].max()\n",
        "    latmin = lats['data'].min()\n",
        "    latmax = lats['data'].max()\n",
        "\n",
        "    # coloca as variáveis num dicionário\n",
        "    dic = {\n",
        "            'date_start(year,month,day,hour,minute)': [anoi, mesi, diai, hori, mini],\n",
        "            'date_end(year,month,day,hour,minute)': [anof, mesf, diaf, horf, minf],\n",
        "            'lon_radar(degree)': lon_radar,\n",
        "            'lat_radar(degree)': lat_radar,\n",
        "            'alt_radar(meters)': alt_radar,\n",
        "            'radar_frequency(Hz)': radar_frequency,\n",
        "            'radar_beam_width(degree)': radar_beam_width,\n",
        "            'nsweeps(#)': nsweeps,\n",
        "            'sweeps(degree)': list(sweeps),\n",
        "            'nrays(#)': qte_azim,\n",
        "            'ngates(#)': ngates,\n",
        "            'radial_resolution(meters)': radial_resolution,\n",
        "            'ray_angle_res(degree)': ray_angle_res,\n",
        "            'lonmin(degree)': lonmin,\n",
        "            'lonmax(degree)': lonmax,\n",
        "            'latmin(degree)': latmin,\n",
        "            'latmax(degree)': latmax,\n",
        "            'variables': list(variaveis)\n",
        "\n",
        "           }\n",
        "\n",
        "    return dic"
      ],
      "metadata": {
        "id": "T8pB1M6lA4cT"
      },
      "id": "T8pB1M6lA4cT",
      "execution_count": 5,
      "outputs": []
    },
    {
      "cell_type": "code",
      "source": [
        "#-----------------------------#\n",
        "#         SAO_FRANCISCO_MG\n",
        "#-----------------------------#\n",
        "# nome do radar\n",
        "name_radar = 'SAO_FRANCISCO_MG'\n",
        "\n",
        "# arquivo\n",
        "file_ALMENARA_MG = f'{dir}input/SF1-20211223003004.HDF5'\n",
        "\n",
        "# leitura\n",
        "radar = pyart.aux_io.read_gamic(file_ALMENARA_MG)\n",
        "\n",
        "# extrai informações\n",
        "dic = get_info_radar(radar)\n",
        "\n",
        "# salva\n",
        "with open(f'{dir}info_radar_{name_radar}.csv', 'w') as f:\n",
        "    for key in dic.keys():\n",
        "        f.write(\"%s= %s\\n\"%(key, dic[key]))"
      ],
      "metadata": {
        "id": "kPe8h5qnA8Kb"
      },
      "id": "kPe8h5qnA8Kb",
      "execution_count": 6,
      "outputs": []
    },
    {
      "cell_type": "code",
      "source": [
        "dic"
      ],
      "metadata": {
        "id": "vCreInlRq7U3",
        "colab": {
          "base_uri": "https://localhost:8080/"
        },
        "outputId": "e7e4a14c-2d29-48df-a5dc-82784394266b"
      },
      "id": "vCreInlRq7U3",
      "execution_count": 7,
      "outputs": [
        {
          "output_type": "execute_result",
          "data": {
            "text/plain": [
              "{'date_start(year,month,day,hour,minute)': ['2021', '12', '23', '00', '30'],\n",
              " 'date_end(year,month,day,hour,minute)': ['2021', '12', '23', '00', '37'],\n",
              " 'lon_radar(degree)': -44.69588,\n",
              " 'lat_radar(degree)': -16.00889,\n",
              " 'alt_radar(meters)': 730.0,\n",
              " 'radar_frequency(Hz)': 2857888000.0,\n",
              " 'radar_beam_width(degree)': 1.02,\n",
              " 'nsweeps(#)': 13,\n",
              " 'sweeps(degree)': [0.3,\n",
              "  0.9,\n",
              "  1.6,\n",
              "  2.5,\n",
              "  3.4,\n",
              "  4.6,\n",
              "  5.9,\n",
              "  7.4,\n",
              "  9.2,\n",
              "  11.4,\n",
              "  13.8,\n",
              "  16.7,\n",
              "  20.0],\n",
              " 'nrays(#)': [360, 360, 360, 360, 360, 360, 360, 360, 360, 360, 360, 360, 360],\n",
              " 'ngates(#)': 1000,\n",
              " 'radial_resolution(meters)': 250.0,\n",
              " 'ray_angle_res(degree)': 1.0,\n",
              " 'lonmin(degree)': -47.031532,\n",
              " 'lonmax(degree)': -42.36022,\n",
              " 'latmin(degree)': -18.253836,\n",
              " 'latmax(degree)': -13.763937,\n",
              " 'variables': ['corrected_reflectivity',\n",
              "  'reflectivity',\n",
              "  'corrected_velocity',\n",
              "  'spectrum_width',\n",
              "  'corrected_differential_reflectivity',\n",
              "  'corrected_differential_phase',\n",
              "  'differential_phase',\n",
              "  'specific_differential_phase',\n",
              "  'cross_correlation_ratio']}"
            ]
          },
          "metadata": {},
          "execution_count": 7
        }
      ]
    }
  ],
  "metadata": {
    "kernelspec": {
      "display_name": "Python 3",
      "language": "python",
      "name": "python3"
    },
    "language_info": {
      "codemirror_mode": {
        "name": "ipython",
        "version": 3
      },
      "file_extension": ".py",
      "mimetype": "text/x-python",
      "name": "python",
      "nbconvert_exporter": "python",
      "pygments_lexer": "ipython3",
      "version": "3.9.6"
    },
    "colab": {
      "provenance": []
    }
  },
  "nbformat": 4,
  "nbformat_minor": 5
}