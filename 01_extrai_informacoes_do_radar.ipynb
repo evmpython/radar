{
  "cells": [
    {
      "cell_type": "markdown",
      "source": [
        "Esse código extrai as informações de arquivo HDF5 do radar do Cemaden. Esses arquivos são gerados por [Thiago Biscaro](https://github.com/tsbiscaro) e os dados originais são do [Cemaden](http://www2.cemaden.gov.br/mapainterativo/).\n"
      ],
      "metadata": {
        "id": "24N56DCSdHB0"
      },
      "id": "24N56DCSdHB0"
    },
    {
      "cell_type": "code",
      "source": [
        "# instalando o py_art\n",
        "!pip install -q arm_pyart"
      ],
      "metadata": {
        "id": "lE0NpUgrcbKs"
      },
      "id": "lE0NpUgrcbKs",
      "execution_count": null,
      "outputs": []
    },
    {
      "cell_type": "code",
      "execution_count": null,
      "id": "bb585815",
      "metadata": {
        "id": "bb585815"
      },
      "outputs": [],
      "source": [
        "# importando bibliotecas\n",
        "import pyart\n",
        "import csv"
      ]
    },
    {
      "cell_type": "code",
      "source": [
        "# monta drive\n",
        "from google.colab import drive\n",
        "drive.mount('/content/drive')"
      ],
      "metadata": {
        "id": "koA5jTj5_0Bt",
        "colab": {
          "base_uri": "https://localhost:8080/"
        },
        "outputId": "a7c468c8-9a44-446f-8a14-56cd6e05e53f"
      },
      "id": "koA5jTj5_0Bt",
      "execution_count": 3,
      "outputs": [
        {
          "output_type": "stream",
          "name": "stdout",
          "text": [
            "Mounted at /content/drive\n"
          ]
        }
      ]
    },
    {
      "cell_type": "markdown",
      "source": [
        "Insira o caminho do diretório onde esta o código:"
      ],
      "metadata": {
        "id": "k2daUspBLf2e"
      },
      "id": "k2daUspBLf2e"
    },
    {
      "cell_type": "code",
      "source": [
        "# diretório\n",
        "dir = '/content/drive/MyDrive/PYHTON/00_GITHUB/6_RADAR/4_Extrai_info_radar_HDF5/'"
      ],
      "metadata": {
        "id": "IcFVFB3CWb8y"
      },
      "id": "IcFVFB3CWb8y",
      "execution_count": 6,
      "outputs": []
    },
    {
      "cell_type": "code",
      "source": [
        "#-----------------------------------------------------------------------------------\n",
        "#        Obtem as informações do radar a partir do dado bruto (HDF5)\n",
        "#-----------------------------------------------------------------------------------\n",
        "def get_info_radar(radar):\n",
        "\n",
        "    \"\"\"\n",
        "    Obtem as informações sobre o radar\n",
        "\n",
        "    Parâmetros de entrada:\n",
        "                         radar (object): objeto do pyart\n",
        "\n",
        "    Parâmetros de saída:\n",
        "                         dic (dicionário): informações do radar, como:\n",
        "                           date_start(list): ano, mes, dia hora, minuto inicial do scan do radar\n",
        "                           date_end(list): ano, mes, dia hora, minuto final do scan do radar\n",
        "                           lon_radar(float): longitude do radar em graus\n",
        "                           lat_radar(float): latitude do radar em graus\n",
        "                           alt_radar(float): altura do radar em metros\n",
        "                           radar_frequency(float): frequência do radar em Hz\n",
        "                           radar_beam_width(float): largura do feixe em graus\n",
        "                           nsweeps(int): quantidade de elevações\n",
        "                           sweeps(list): ângulos de elevação em graus\n",
        "                           nrays(int): quantidade de azimutes\n",
        "                           ngates(int): quantidade de bins\n",
        "                           radial_resolution(float): resolução radial do radar em metros\n",
        "                           ray_angle_res(float): resolução azimutal em graus\n",
        "                           lonmin(float): longitude mínima da matriz de dados\n",
        "                           lonmax(float): longitude máxima da matriz de dados\n",
        "                           latmin(float): latitude mínima da matriz de dados\n",
        "                           latmax(float): latitude máxima da matriz de dados\n",
        "                           variables(list): variáveis disponíveis\n",
        "\n",
        "    Exemplo: dic = get_info_radar(radar)\n",
        "    \"\"\"\n",
        "\n",
        "    # importa biblioteca de datas\n",
        "    from netCDF4 import num2date\n",
        "\n",
        "    # campos disponíveis\n",
        "    variaveis = radar.fields.keys()\n",
        "\n",
        "    # latitude e longitude do radar\n",
        "    lon_radar, lat_radar, alt_radar = radar.longitude['data'][0], radar.latitude['data'][0], radar.altitude['data'][0]\n",
        "\n",
        "    # informações sobre o tempo\n",
        "    data_ini = num2date(radar.time['data'][0], radar.time['units'] )\n",
        "    data_end = num2date(radar.time['data'][-1], radar.time['units'] )\n",
        "\n",
        "    # extrai o ano, mes dia, hora e minuto inicial da imagem\n",
        "    anoi, mesi, diai, hori, mini, segi = str(data_ini.year), str(data_ini.month).zfill(2), str(data_ini.day).zfill(2), str(data_ini.hour).zfill(2), str(data_ini.minute).zfill(2), str(data_ini.second).zfill(2)\n",
        "    anof, mesf, diaf, horf, minf, segf = str(data_end.year), str(data_end.month).zfill(2), str(data_end.day).zfill(2), str(data_end.hour).zfill(2), str(data_end.minute).zfill(2), str(data_end.second).zfill(2)\n",
        "\n",
        "    # frequência do radar\n",
        "    radar_frequency = radar.instrument_parameters['frequency']['data'][0]\n",
        "\n",
        "    # largura do feixe\n",
        "    radar_beam_width = radar.instrument_parameters['radar_beam_width_h']['data'][0]\n",
        "\n",
        "    # quantidade TOTAL de bins do feixe\n",
        "    ngates = radar.ngates\n",
        "\n",
        "    # quantidade TOTAL de azimutes\n",
        "    nrays = radar.nrays\n",
        "\n",
        "    # quantidade de elevações\n",
        "    nsweeps = radar.nsweeps\n",
        "\n",
        "    # resolução radial\n",
        "    radial_resolution = radar.range['meters_between_gates']\n",
        "\n",
        "    # informação apenas da resolução ângulo azimutal\n",
        "    ray_angle_res = radar.ray_angle_res['data'][0]\n",
        "\n",
        "    # ângulos de elevação\n",
        "    sweeps =  radar.fixed_angle['data']\n",
        "\n",
        "    # definindo a extensão dos dados em termos de latitude/longitude\n",
        "    lats = radar.gate_latitude\n",
        "    lons = radar.gate_longitude\n",
        "    lonmin = lons['data'].min()\n",
        "    lonmax = lons['data'].max()\n",
        "    latmin = lats['data'].min()\n",
        "    latmax = lats['data'].max()\n",
        "\n",
        "    # coloca as variáveis num dicionário\n",
        "    dic = {\n",
        "            'date_start(year,month,day,hour,minute)': [anoi, mesi, diai, hori, mini],\n",
        "            'date_end(year,month,day,hour,minute)': [anof, mesf, diaf, horf, minf],\n",
        "            'lon_radar(degree)': lon_radar,\n",
        "            'lat_radar(degree)': lat_radar,\n",
        "            'alt_radar(meters)': alt_radar,\n",
        "            'radar_frequency(Hz)': radar_frequency,\n",
        "            'radar_beam_width(degree)': radar_beam_width,\n",
        "            'nsweeps(#)': nsweeps,\n",
        "            'sweeps(degree)': list(sweeps),\n",
        "            'nrays(#)': nrays,\n",
        "            'ngates(#)': ngates,\n",
        "            'radial_resolution(meters)': radial_resolution,\n",
        "            'ray_angle_res(degree)': ray_angle_res,\n",
        "            'lonmin(degree)': lonmin,\n",
        "            'lonmax(degree)': lonmax,\n",
        "            'latmin(degree)': latmin,\n",
        "            'latmax(degree)': latmax,\n",
        "            'variables': list(variaveis)\n",
        "\n",
        "           }\n",
        "\n",
        "    return dic"
      ],
      "metadata": {
        "id": "T8pB1M6lA4cT"
      },
      "id": "T8pB1M6lA4cT",
      "execution_count": 7,
      "outputs": []
    },
    {
      "cell_type": "code",
      "source": [
        "#-----------------------------#\n",
        "#         SAO_FRANCISCO_MG\n",
        "#-----------------------------#\n",
        "# nome do radar\n",
        "name_radar = 'SAO_FRANCISCO_MG'\n",
        "\n",
        "# arquivo\n",
        "file_ALMENARA_MG = f'{dir}input/SF1-20211223003004.HDF5'\n",
        "\n",
        "# leitura\n",
        "radar = pyart.aux_io.read_gamic(file_ALMENARA_MG)\n",
        "\n",
        "# extrai informações\n",
        "dic = get_info_radar(radar)\n",
        "\n",
        "# salva\n",
        "with open(f'{dir}info_radar_{name_radar}.csv', 'w') as f:\n",
        "    for key in dic.keys():\n",
        "        f.write(\"%s= %s\\n\"%(key, dic[key]))"
      ],
      "metadata": {
        "id": "kPe8h5qnA8Kb"
      },
      "id": "kPe8h5qnA8Kb",
      "execution_count": 8,
      "outputs": []
    },
    {
      "cell_type": "code",
      "source": [],
      "metadata": {
        "id": "vCreInlRq7U3"
      },
      "id": "vCreInlRq7U3",
      "execution_count": null,
      "outputs": []
    }
  ],
  "metadata": {
    "kernelspec": {
      "display_name": "Python 3",
      "language": "python",
      "name": "python3"
    },
    "language_info": {
      "codemirror_mode": {
        "name": "ipython",
        "version": 3
      },
      "file_extension": ".py",
      "mimetype": "text/x-python",
      "name": "python",
      "nbconvert_exporter": "python",
      "pygments_lexer": "ipython3",
      "version": "3.9.6"
    },
    "colab": {
      "provenance": []
    }
  },
  "nbformat": 4,
  "nbformat_minor": 5
}